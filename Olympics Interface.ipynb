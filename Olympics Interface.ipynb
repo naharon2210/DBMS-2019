{
 "cells": [
  {
   "cell_type": "code",
   "execution_count": 42,
   "metadata": {},
   "outputs": [],
   "source": [
    "import psycopg2"
   ]
  },
  {
   "cell_type": "code",
   "execution_count": 78,
   "metadata": {},
   "outputs": [
    {
     "name": "stdout",
     "output_type": "stream",
     "text": [
      "{'user': '201701144', 'dbname': '201701144', 'host': '10.100.71.21', 'port': '5432', 'tty': '', 'options': '', 'sslmode': 'prefer', 'sslcompression': '0', 'krbsrvname': 'postgres', 'target_session_attrs': 'any'} \n",
      "\n",
      "You are connected to -  ('PostgreSQL 10.7 on x86_64-pc-linux-gnu, compiled by gcc (GCC) 4.8.5 20150623 (Red Hat 4.8.5-36), 64-bit',) \n",
      "\n"
     ]
    }
   ],
   "source": [
    "try:\n",
    "    connection = psycopg2.connect(user = \"201701144\",\n",
    "                                  password = \"group3olympics\",\n",
    "                                  host = \"10.100.71.21\",\n",
    "                                  port = \"5432\",\n",
    "                                  database = \"201701144\")\n",
    "\n",
    "    cursor = connection.cursor()\n",
    "    \n",
    "    #setting Schema\n",
    "    cursor.execute(\"SET SEARCH_PATH to olympics_database\")\n",
    "    \n",
    "    # Print PostgreSQL Connection properties\n",
    "    print ( connection.get_dsn_parameters(),\"\\n\")\n",
    "\n",
    "    # Print PostgreSQL version\n",
    "    cursor.execute(\"SELECT version();\")\n",
    "    record = cursor.fetchone()\n",
    "    print(\"You are connected to - \", record,\"\\n\")\n",
    "\n",
    "except (Exception, psycopg2.Error) as error :\n",
    "    print (\"Error while connecting to PostgreSQL\", error)"
   ]
  },
  {
   "cell_type": "markdown",
   "metadata": {},
   "source": [
    "# List of details of all events"
   ]
  },
  {
   "cell_type": "code",
   "execution_count": 69,
   "metadata": {},
   "outputs": [
    {
     "name": "stdout",
     "output_type": "stream",
     "text": [
      "Event ID  898524\n",
      "Event ID  898524\n",
      "Event ID  898524\n",
      "Event ID  898524\n",
      "Event ID  898524\n",
      "Event ID  898524\n",
      "Event ID  177885\n",
      "Event ID  177885\n",
      "Event ID  177885\n",
      "Event ID  177885\n",
      "Event ID  177885\n",
      "Event ID  177885\n",
      "Event ID  973448\n",
      "Event ID  973448\n",
      "Event ID  973448\n",
      "Event ID  973448\n",
      "Event ID  973448\n",
      "Event ID  973448\n",
      "Event ID  302510\n",
      "Event ID  302510\n",
      "Event ID  302510\n",
      "Event ID  302510\n",
      "Event ID  302510\n",
      "Event ID  302510\n",
      "Event ID  1120\n",
      "Event ID  1120\n",
      "Event ID  1120\n",
      "Event ID  1120\n",
      "Event ID  590313\n",
      "Event ID  590313\n",
      "Event ID  590313\n",
      "Event ID  590313\n",
      "Event ID  575557\n",
      "Event ID  575557\n",
      "Event ID  575557\n",
      "Event ID  784723\n",
      "Event ID  784723\n",
      "Event ID  784723\n",
      "Event ID  766150\n",
      "Event ID  766150\n",
      "Event ID  766150\n",
      "Event ID  766150\n",
      "Event ID  766150\n",
      "Event ID  619169\n",
      "Event ID  619169\n",
      "Event ID  619169\n",
      "Event ID  619169\n",
      "Event ID  619169\n"
     ]
    }
   ],
   "source": [
    "query = ''' select * from events_in_interval('01-01-2016 01:00', '12-31-2016 23:00') '''\n",
    "cursor.execute(query)\n",
    "records = cursor.fetchall()\n",
    "#print(records)\n",
    "for row in records:\n",
    "   print(\"Event ID \", row[0])"
   ]
  },
  {
   "cell_type": "markdown",
   "metadata": {},
   "source": [
    "# List of all female Gold Medalists"
   ]
  },
  {
   "cell_type": "code",
   "execution_count": 70,
   "metadata": {},
   "outputs": [
    {
     "name": "stdout",
     "output_type": "stream",
     "text": [
      "[]\n"
     ]
    }
   ],
   "source": [
    "query = '''select AthleteID, Name,  EventID from AthleteCompetesIn natural join\n",
    "Athlete where Athlete.Gender = 'F' \n",
    "and RoundNumber = last_round(EventID, false) and position=1;'''\n",
    "cursor.execute(query)\n",
    "records = cursor.fetchall()\n",
    "print(records)"
   ]
  },
  {
   "cell_type": "markdown",
   "metadata": {},
   "source": [
    "# for each Athlete event, find the Medalists"
   ]
  },
  {
   "cell_type": "code",
   "execution_count": 79,
   "metadata": {},
   "outputs": [
    {
     "name": "stdout",
     "output_type": "stream",
     "text": [
      "[]\n"
     ]
    }
   ],
   "source": [
    "query = '''select AthleteID, EventID, Position from AthleteCompetesIn where RoundNumber = last_round(EventID, false) and position<=3;\n",
    "'''\n",
    "cursor.execute(query)\n",
    "records = cursor.fetchall()\n",
    "print(records)"
   ]
  },
  {
   "cell_type": "code",
   "execution_count": 77,
   "metadata": {},
   "outputs": [
    {
     "name": "stdout",
     "output_type": "stream",
     "text": [
      "PostgreSQL connection is closed\n"
     ]
    }
   ],
   "source": [
    "#closing database connection.\n",
    "if(connection):\n",
    "    cursor.close()\n",
    "    connection.close()\n",
    "    print(\"PostgreSQL connection is closed\")"
   ]
  },
  {
   "cell_type": "code",
   "execution_count": null,
   "metadata": {},
   "outputs": [],
   "source": []
  }
 ],
 "metadata": {
  "kernelspec": {
   "display_name": "Python 3",
   "language": "python",
   "name": "python3"
  },
  "language_info": {
   "codemirror_mode": {
    "name": "ipython",
    "version": 3
   },
   "file_extension": ".py",
   "mimetype": "text/x-python",
   "name": "python",
   "nbconvert_exporter": "python",
   "pygments_lexer": "ipython3",
   "version": "3.7.3"
  }
 },
 "nbformat": 4,
 "nbformat_minor": 2
}
